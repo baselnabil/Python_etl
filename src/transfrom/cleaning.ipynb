{
 "cells": [
  {
   "cell_type": "code",
   "execution_count": 1,
   "metadata": {},
   "outputs": [],
   "source": [
    "from pyspark.sql import SparkSession\n",
    "from pyspark.sql.functions import mean, col\n"
   ]
  },
  {
   "cell_type": "code",
   "execution_count": 2,
   "metadata": {},
   "outputs": [
    {
     "name": "stderr",
     "output_type": "stream",
     "text": [
      "24/08/29 15:07:29 WARN Utils: Your hostname, basel resolves to a loopback address: 127.0.1.1; using 192.168.1.11 instead (on interface wlp3s0)\n",
      "24/08/29 15:07:29 WARN Utils: Set SPARK_LOCAL_IP if you need to bind to another address\n",
      "Setting default log level to \"WARN\".\n",
      "To adjust logging level use sc.setLogLevel(newLevel). For SparkR, use setLogLevel(newLevel).\n",
      "24/08/29 15:07:40 WARN NativeCodeLoader: Unable to load native-hadoop library for your platform... using builtin-java classes where applicable\n"
     ]
    }
   ],
   "source": [
    "spark = SparkSession.builder  \\\n",
    "    .appName('python_etl') \\\n",
    "    .getOrCreate()"
   ]
  },
  {
   "cell_type": "code",
   "execution_count": 3,
   "metadata": {},
   "outputs": [
    {
     "name": "stdout",
     "output_type": "stream",
     "text": [
      "+--------------------+----+----------+-----------+------------+------------------+-----------------------------+-------------------------+------------------------------------+-----------------+------------------------+-------------+------------------+--------------------------+------------------------+-------------------------------+----+\n",
      "|             COUNTRY|ISO3|WHO_REGION|DATA_SOURCE|DATE_UPDATED|TOTAL_VACCINATIONS|PERSONS_VACCINATED_1PLUS_DOSE|TOTAL_VACCINATIONS_PER100|PERSONS_VACCINATED_1PLUS_DOSE_PER100|PERSONS_LAST_DOSE|PERSONS_LAST_DOSE_PER100|VACCINES_USED|FIRST_VACCINE_DATE|NUMBER_VACCINES_TYPES_USED|PERSONS_BOOSTER_ADD_DOSE|PERSONS_BOOSTER_ADD_DOSE_PER100|_c16|\n",
      "+--------------------+----+----------+-----------+------------+------------------+-----------------------------+-------------------------+------------------------------------+-----------------+------------------------+-------------+------------------+--------------------------+------------------------+-------------------------------+----+\n",
      "|               Aruba| ABW|      AMRO|  REPORTING|  29/12/2023|            217124|                      90493.0|                      203|                                  85|          84363.0|                      79|         NULL|        17/02/2021|                      NULL|                 35659.0|                             33|NULL|\n",
      "|         Afghanistan| AFG|      EMRO|  REPORTING|  31/12/2023|          2.30E+07|                       1.92E7|                       59|                                  49|           1.84E7|                      47|         NULL|        22/02/2021|                      NULL|               2729940.0|                              7|NULL|\n",
      "|              Angola| AGO|      AFRO|  REPORTING|  31/12/2023|          2.78E+07|                       1.66E7|                       85|                                  50|        9609080.0|                      29|         NULL|        10/03/2021|                      NULL|               3067091.0|                              9|NULL|\n",
      "|            Anguilla| AIA|      AMRO|  REPORTING|  29/12/2023|             24864|                      10858.0|                      166|                                  72|          10382.0|                      69|         NULL|        05/02/2021|                      NULL|                  3231.0|                             22|NULL|\n",
      "|             Albania| ALB|      EURO|  REPORTING|  23/12/2023|           3088966|                    1349255.0|                      107|                                  47|        1279333.0|                      44|         NULL|        13/01/2021|                      NULL|                402371.0|                             14|NULL|\n",
      "|             Andorra| AND|      EURO|  REPORTING|  23/12/2023|            157072|                      57913.0|                      203|                                  75|          53501.0|                      69|         NULL|        20/01/2021|                      NULL|                 43071.0|                             56|NULL|\n",
      "|           Argentina| ARG|      AMRO|  REPORTING|  29/12/2023|          1.17E+08|                       4.12E7|                      258|                                  91|           3.81E7|                      84|         NULL|        29/12/2020|                      NULL|                  2.77E7|                             61|NULL|\n",
      "|             Armenia| ARM|      EURO|  REPORTING|  23/12/2023|           2256919|                    1150915.0|                       76|                                  39|        1030758.0|                      35|         NULL|        27/01/2021|                      NULL|                 81354.0|                              3|NULL|\n",
      "| Antigua and Barbuda| ATG|      AMRO|  REPORTING|  29/12/2023|            136512|                      64290.0|                      139|                                  66|          62384.0|                      64|         NULL|        01/03/2021|                      NULL|                  9838.0|                             10|NULL|\n",
      "|           Australia| AUS|      WPRO|  REPORTING|  31/12/2023|          6.97E+07|                       2.24E7|                      273|                                  88|           2.18E7|                      85|         NULL|        21/02/2021|                      NULL|                  1.44E7|                             56|NULL|\n",
      "|             Austria| AUT|      EURO|  REPORTING|  23/12/2023|          2.04E+07|                    6909588.0|                      229|                                  78|        6682372.0|                      75|         NULL|        30/12/2020|                      NULL|               5405966.0|                             61|NULL|\n",
      "|          Azerbaijan| AZE|      EURO|  REPORTING|  23/12/2023|          1.38E+07|                    5436662.0|                      136|                                  54|        4888112.0|                      48|         NULL|        20/01/2021|                      NULL|               3504588.0|                             35|NULL|\n",
      "|             Burundi| BDI|      AFRO|  REPORTING|  31/12/2023|             42252|                      36909.0|                     NULL|                                NULL|          36321.0|                    NULL|         NULL|        18/10/2021|                      NULL|                   314.0|                           NULL|NULL|\n",
      "|             Belgium| BEL|      EURO|  REPORTING|  23/12/2023|          2.91E+07|                    9248897.0|                      253|                                  80|        9152736.0|                      79|         NULL|        30/12/2020|                      NULL|               7246551.0|                             63|NULL|\n",
      "|               Benin| BEN|      AFRO|  REPORTING|  31/12/2023|           4232541|                    3697190.0|                       35|                                  30|        2742837.0|                      23|         NULL|        29/03/2021|                      NULL|                    NULL|                           NULL|NULL|\n",
      "|        Burkina Faso| BFA|      AFRO|  REPORTING|  31/12/2023|           7893609|                    6089089.0|                       38|                                  29|        5232347.0|                      25|         NULL|        02/06/2021|                      NULL|                  4056.0|                           NULL|NULL|\n",
      "|            Bulgaria| BGR|      EURO|  REPORTING|  23/12/2023|           4723016|                    2155863.0|                       68|                                  31|        2080472.0|                      30|         NULL|        30/12/2020|                      NULL|                864723.0|                             12|NULL|\n",
      "|             Bahamas| BHS|      AMRO|  REPORTING|  29/12/2023|            366359|                     174810.0|                       93|                                  44|         166972.0|                      42|         NULL|        14/03/2021|                      NULL|                 33717.0|                              9|NULL|\n",
      "|Bosnia and Herzeg...| BIH|      EURO|  REPORTING|  23/12/2023|           1190949|                     546013.0|                       36|                                  17|         461202.0|                      14|         NULL|              NULL|                      NULL|                182203.0|                              6|NULL|\n",
      "|             Belarus| BLR|      EURO|  REPORTING|  23/12/2023|          2.28E+07|                    6451746.0|                      241|                                  68|        6366658.0|                      67|         NULL|        03/02/2021|                      NULL|               5724423.0|                             61|NULL|\n",
      "+--------------------+----+----------+-----------+------------+------------------+-----------------------------+-------------------------+------------------------------------+-----------------+------------------------+-------------+------------------+--------------------------+------------------------+-------------------------------+----+\n",
      "only showing top 20 rows\n",
      "\n"
     ]
    },
    {
     "name": "stderr",
     "output_type": "stream",
     "text": [
      "24/08/29 15:07:45 WARN CSVHeaderChecker: CSV header does not conform to the schema.\n",
      " Header: COUNTRY, ISO3, WHO_REGION, DATA_SOURCE, DATE_UPDATED, TOTAL_VACCINATIONS, PERSONS_VACCINATED_1PLUS_DOSE, TOTAL_VACCINATIONS_PER100, PERSONS_VACCINATED_1PLUS_DOSE_PER100, PERSONS_LAST_DOSE, PERSONS_LAST_DOSE_PER100, VACCINES_USED, FIRST_VACCINE_DATE, NUMBER_VACCINES_TYPES_USED, PERSONS_BOOSTER_ADD_DOSE, PERSONS_BOOSTER_ADD_DOSE_PER100, \n",
      " Schema: COUNTRY, ISO3, WHO_REGION, DATA_SOURCE, DATE_UPDATED, TOTAL_VACCINATIONS, PERSONS_VACCINATED_1PLUS_DOSE, TOTAL_VACCINATIONS_PER100, PERSONS_VACCINATED_1PLUS_DOSE_PER100, PERSONS_LAST_DOSE, PERSONS_LAST_DOSE_PER100, VACCINES_USED, FIRST_VACCINE_DATE, NUMBER_VACCINES_TYPES_USED, PERSONS_BOOSTER_ADD_DOSE, PERSONS_BOOSTER_ADD_DOSE_PER100, _c16\n",
      "Expected: _c16 but found: \n",
      "CSV file: file:///home/basel/basel/python_Etl/data/raw/vaccination-data.csv\n"
     ]
    }
   ],
   "source": [
    "df  = spark.read    \\\n",
    "    .format('csv')  \\\n",
    "    .option('sep',';')\\\n",
    "    .option('header','true')\\\n",
    "    .option('inferschema','true') \\\n",
    "    .load('../../data/raw/vaccination-data.csv')\n",
    "df.show()"
   ]
  },
  {
   "cell_type": "code",
   "execution_count": 4,
   "metadata": {},
   "outputs": [],
   "source": [
    "# dropping unneccessary columns\n",
    "modified_df = df.drop('ISO3','DATA_SOURCE','DATA_SOURCE','NUMBER_VACCINES_TYPES_USED','_c16','VACCINES_USED')\n"
   ]
  },
  {
   "cell_type": "code",
   "execution_count": 5,
   "metadata": {},
   "outputs": [
    {
     "name": "stdout",
     "output_type": "stream",
     "text": [
      "+--------------------+----------+------------+------------------+-----------------------------+-------------------------+------------------------------------+-----------------+------------------------+------------------+------------------------+-------------------------------+\n",
      "|             COUNTRY|WHO_REGION|DATE_UPDATED|TOTAL_VACCINATIONS|PERSONS_VACCINATED_1PLUS_DOSE|TOTAL_VACCINATIONS_PER100|PERSONS_VACCINATED_1PLUS_DOSE_PER100|PERSONS_LAST_DOSE|PERSONS_LAST_DOSE_PER100|FIRST_VACCINE_DATE|PERSONS_BOOSTER_ADD_DOSE|PERSONS_BOOSTER_ADD_DOSE_PER100|\n",
      "+--------------------+----------+------------+------------------+-----------------------------+-------------------------+------------------------------------+-----------------+------------------------+------------------+------------------------+-------------------------------+\n",
      "|               Aruba|      AMRO|  29/12/2023|            217124|                      90493.0|                      203|                                  85|          84363.0|                      79|        17/02/2021|                 35659.0|                             33|\n",
      "|         Afghanistan|      EMRO|  31/12/2023|          2.30E+07|                       1.92E7|                       59|                                  49|           1.84E7|                      47|        22/02/2021|               2729940.0|                              7|\n",
      "|              Angola|      AFRO|  31/12/2023|          2.78E+07|                       1.66E7|                       85|                                  50|        9609080.0|                      29|        10/03/2021|               3067091.0|                              9|\n",
      "|            Anguilla|      AMRO|  29/12/2023|             24864|                      10858.0|                      166|                                  72|          10382.0|                      69|        05/02/2021|                  3231.0|                             22|\n",
      "|             Albania|      EURO|  23/12/2023|           3088966|                    1349255.0|                      107|                                  47|        1279333.0|                      44|        13/01/2021|                402371.0|                             14|\n",
      "|             Andorra|      EURO|  23/12/2023|            157072|                      57913.0|                      203|                                  75|          53501.0|                      69|        20/01/2021|                 43071.0|                             56|\n",
      "|           Argentina|      AMRO|  29/12/2023|          1.17E+08|                       4.12E7|                      258|                                  91|           3.81E7|                      84|        29/12/2020|                  2.77E7|                             61|\n",
      "|             Armenia|      EURO|  23/12/2023|           2256919|                    1150915.0|                       76|                                  39|        1030758.0|                      35|        27/01/2021|                 81354.0|                              3|\n",
      "| Antigua and Barbuda|      AMRO|  29/12/2023|            136512|                      64290.0|                      139|                                  66|          62384.0|                      64|        01/03/2021|                  9838.0|                             10|\n",
      "|           Australia|      WPRO|  31/12/2023|          6.97E+07|                       2.24E7|                      273|                                  88|           2.18E7|                      85|        21/02/2021|                  1.44E7|                             56|\n",
      "|             Austria|      EURO|  23/12/2023|          2.04E+07|                    6909588.0|                      229|                                  78|        6682372.0|                      75|        30/12/2020|               5405966.0|                             61|\n",
      "|          Azerbaijan|      EURO|  23/12/2023|          1.38E+07|                    5436662.0|                      136|                                  54|        4888112.0|                      48|        20/01/2021|               3504588.0|                             35|\n",
      "|             Burundi|      AFRO|  31/12/2023|             42252|                      36909.0|                     9877|                                NULL|          36321.0|                    NULL|        18/10/2021|                   314.0|                           NULL|\n",
      "|             Belgium|      EURO|  23/12/2023|          2.91E+07|                    9248897.0|                      253|                                  80|        9152736.0|                      79|        30/12/2020|               7246551.0|                             63|\n",
      "|               Benin|      AFRO|  31/12/2023|           4232541|                    3697190.0|                       35|                                  30|        2742837.0|                      23|        29/03/2021|                    NULL|                           NULL|\n",
      "|        Burkina Faso|      AFRO|  31/12/2023|           7893609|                    6089089.0|                       38|                                  29|        5232347.0|                      25|        02/06/2021|                  4056.0|                           NULL|\n",
      "|            Bulgaria|      EURO|  23/12/2023|           4723016|                    2155863.0|                       68|                                  31|        2080472.0|                      30|        30/12/2020|                864723.0|                             12|\n",
      "|             Bahamas|      AMRO|  29/12/2023|            366359|                     174810.0|                       93|                                  44|         166972.0|                      42|        14/03/2021|                 33717.0|                              9|\n",
      "|Bosnia and Herzeg...|      EURO|  23/12/2023|           1190949|                     546013.0|                       36|                                  17|         461202.0|                      14|              NULL|                182203.0|                              6|\n",
      "|             Belarus|      EURO|  23/12/2023|          2.28E+07|                    6451746.0|                      241|                                  68|        6366658.0|                      67|        03/02/2021|               5724423.0|                             61|\n",
      "+--------------------+----------+------------+------------------+-----------------------------+-------------------------+------------------------------------+-----------------+------------------------+------------------+------------------------+-------------------------------+\n",
      "only showing top 20 rows\n",
      "\n"
     ]
    }
   ],
   "source": [
    "# replacing nulls with values\n",
    "mean_value = modified_df.select(mean(col('TOTAL_VACCINATIONS_PER100'))).collect()[0][0]\n",
    "df_filled = modified_df.fillna(value=mean_value,subset='TOTAL_VACCINATIONS_PER100')\n",
    "df_filled.show()"
   ]
  },
  {
   "cell_type": "code",
   "execution_count": 6,
   "metadata": {},
   "outputs": [
    {
     "name": "stdout",
     "output_type": "stream",
     "text": [
      "+--------------------+----------+------------+------------------+-----------------------------+-------------------------+------------------------------------+-----------------+------------------------+------------------+------------------------+-------------------------------+\n",
      "|             COUNTRY|WHO_REGION|DATE_UPDATED|TOTAL_VACCINATIONS|PERSONS_VACCINATED_1PLUS_DOSE|TOTAL_VACCINATIONS_PER100|PERSONS_VACCINATED_1PLUS_DOSE_PER100|PERSONS_LAST_DOSE|PERSONS_LAST_DOSE_PER100|FIRST_VACCINE_DATE|PERSONS_BOOSTER_ADD_DOSE|PERSONS_BOOSTER_ADD_DOSE_PER100|\n",
      "+--------------------+----------+------------+------------------+-----------------------------+-------------------------+------------------------------------+-----------------+------------------------+------------------+------------------------+-------------------------------+\n",
      "|               Aruba|      AMRO|  29/12/2023|            217124|                      90493.0|                      203|                                  85|          84363.0|                      79|        17/02/2021|                 35659.0|                             33|\n",
      "|         Afghanistan|      EMRO|  31/12/2023|          2.30E+07|                       1.92E7|                       59|                                  49|           1.84E7|                      47|        22/02/2021|               2729940.0|                              7|\n",
      "|              Angola|      AFRO|  31/12/2023|          2.78E+07|                       1.66E7|                       85|                                  50|        9609080.0|                      29|        10/03/2021|               3067091.0|                              9|\n",
      "|            Anguilla|      AMRO|  29/12/2023|             24864|                      10858.0|                      166|                                  72|          10382.0|                      69|        05/02/2021|                  3231.0|                             22|\n",
      "|             Albania|      EURO|  23/12/2023|           3088966|                    1349255.0|                      107|                                  47|        1279333.0|                      44|        13/01/2021|                402371.0|                             14|\n",
      "|             Andorra|      EURO|  23/12/2023|            157072|                      57913.0|                      203|                                  75|          53501.0|                      69|        20/01/2021|                 43071.0|                             56|\n",
      "|           Argentina|      AMRO|  29/12/2023|          1.17E+08|                       4.12E7|                      258|                                  91|           3.81E7|                      84|        29/12/2020|                  2.77E7|                             61|\n",
      "|             Armenia|      EURO|  23/12/2023|           2256919|                    1150915.0|                       76|                                  39|        1030758.0|                      35|        27/01/2021|                 81354.0|                              3|\n",
      "| Antigua and Barbuda|      AMRO|  29/12/2023|            136512|                      64290.0|                      139|                                  66|          62384.0|                      64|        01/03/2021|                  9838.0|                             10|\n",
      "|           Australia|      WPRO|  31/12/2023|          6.97E+07|                       2.24E7|                      273|                                  88|           2.18E7|                      85|        21/02/2021|                  1.44E7|                             56|\n",
      "|             Austria|      EURO|  23/12/2023|          2.04E+07|                    6909588.0|                      229|                                  78|        6682372.0|                      75|        30/12/2020|               5405966.0|                             61|\n",
      "|          Azerbaijan|      EURO|  23/12/2023|          1.38E+07|                    5436662.0|                      136|                                  54|        4888112.0|                      48|        20/01/2021|               3504588.0|                             35|\n",
      "|             Belgium|      EURO|  23/12/2023|          2.91E+07|                    9248897.0|                      253|                                  80|        9152736.0|                      79|        30/12/2020|               7246551.0|                             63|\n",
      "|            Bulgaria|      EURO|  23/12/2023|           4723016|                    2155863.0|                       68|                                  31|        2080472.0|                      30|        30/12/2020|                864723.0|                             12|\n",
      "|             Bahamas|      AMRO|  29/12/2023|            366359|                     174810.0|                       93|                                  44|         166972.0|                      42|        14/03/2021|                 33717.0|                              9|\n",
      "|             Belarus|      EURO|  23/12/2023|          2.28E+07|                    6451746.0|                      241|                                  68|        6366658.0|                      67|        03/02/2021|               5724423.0|                             61|\n",
      "|              Belize|      AMRO|  29/12/2023|            511106|                     236221.0|                      129|                                  59|         221478.0|                      56|        01/03/2021|                 53189.0|                             13|\n",
      "|             Bermuda|      AMRO|  29/12/2023|            136759|                      48554.0|                      220|                                  78|          47657.0|                      77|        11/01/2021|                 32016.0|                             51|\n",
      "|Bolivia (Plurinat...|      AMRO|  29/12/2023|          1.61E+07|                    7505389.0|                      138|                                  64|        6307628.0|                      54|        30/01/2021|               2521192.0|                             22|\n",
      "|              Brazil|      AMRO|  29/12/2023|          5.16E+08|                       1.85E8|                      243|                                  87|           1.73E8|                      81|        17/01/2021|                  1.11E8|                             52|\n",
      "+--------------------+----------+------------+------------------+-----------------------------+-------------------------+------------------------------------+-----------------+------------------------+------------------+------------------------+-------------------------------+\n",
      "only showing top 20 rows\n",
      "\n"
     ]
    }
   ],
   "source": [
    "# droping row that has null values \n",
    "no_nulldf= df_filled.dropna()\n",
    "no_nulldf.show()"
   ]
  },
  {
   "cell_type": "code",
   "execution_count": 10,
   "metadata": {},
   "outputs": [],
   "source": [
    "#writing data into csv \n",
    "no_nulldf.write.csv('../../data/transformed/data1.csv')\n"
   ]
  }
 ],
 "metadata": {
  "kernelspec": {
   "display_name": "myenv",
   "language": "python",
   "name": "python3"
  },
  "language_info": {
   "codemirror_mode": {
    "name": "ipython",
    "version": 3
   },
   "file_extension": ".py",
   "mimetype": "text/x-python",
   "name": "python",
   "nbconvert_exporter": "python",
   "pygments_lexer": "ipython3",
   "version": "3.12.3"
  }
 },
 "nbformat": 4,
 "nbformat_minor": 2
}
